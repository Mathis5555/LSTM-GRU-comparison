{
 "cells": [
  {
   "cell_type": "markdown",
   "metadata": {
    "id": "Br8-dyUYJpRX"
   },
   "source": [
    "# **Packages and data**"
   ]
  },
  {
   "cell_type": "code",
   "execution_count": 1,
   "metadata": {
    "executionInfo": {
     "elapsed": 10699,
     "status": "ok",
     "timestamp": 1755592530431,
     "user": {
      "displayName": "Mathis RABUSSEAU",
      "userId": "06257287053368358166"
     },
     "user_tz": -420
    },
    "id": "f7dbyJIOJmv6"
   },
   "outputs": [],
   "source": [
    "import pandas as pd\n",
    "import numpy as np\n",
    "import os\n",
    "import random\n",
    "\n",
    "import seaborn as sns #for visualisation\n",
    "import matplotlib.pyplot as plt #for visualisation\n",
    "\n",
    "import librosa #For audio processing\n",
    "import librosa.display\n",
    "from  IPython.display import Audio\n",
    "import soundfile as sf\n",
    "\n",
    "import tensorflow\n",
    "from tensorflow.keras.models import Sequential\n",
    "from tensorflow.keras.layers import GRU, Dense, Dropout, LSTM\n",
    "\n",
    "import pickle"
   ]
  },
  {
   "cell_type": "code",
   "execution_count": null,
   "metadata": {
    "id": "RADr-11pJjf-"
   },
   "outputs": [],
   "source": [
    "from sklearn.preprocessing import LabelEncoder\n",
    "\n",
    "#Loading the data\n",
    "y = np.load('./mfcc-10k/mfcc_labels.npy', allow_pickle=True)\n",
    "X = np.load('./mfcc-10k/mfcc_features.npy', allow_pickle=True)\n",
    "\n",
    "\n",
    "#Encoding the labels\n",
    "le = LabelEncoder()\n",
    "y_encoded = le.fit_transform(y)\n",
    "\n",
    "#Fixing seed\n",
    "def reset_seeds(seed=42):\n",
    "    np.random.seed(seed)\n",
    "    random.seed(seed)\n",
    "    tensorflow.random.set_seed(seed)\n",
    "reset_seeds()\n",
    "\n",
    "#Dividing train/test set\n",
    "from sklearn.model_selection import train_test_split\n",
    "from sklearn.utils import shuffle\n",
    "X, y_encoded = shuffle(X, y_encoded, random_state=42)\n",
    "X_train, X_test, y_train, y_test = train_test_split(\n",
    "    X, y_encoded, test_size=0.2, random_state=42, stratify=y_encoded)\n",
    "\n",
    "\n",
    "# Transpose: (nb, n_mfcc, time) -> (nb, time, n_mfcc)\n",
    "X_train = X_train.transpose(0, 2, 1)\n",
    "X_test = X_test.transpose(0, 2, 1)\n",
    "X = X.transpose(0,2,1)\n",
    "\n",
    "\n",
    "from tensorflow.keras.utils import to_categorical\n",
    "\n",
    "num_classes = len(le.classes_)\n",
    "y_train_cat = to_categorical(y_train, num_classes)\n",
    "y_test_cat = to_categorical(y_test, num_classes)\n",
    "\n",
    "y = to_categorical(y_encoded, num_classes)"
   ]
  },
  {
   "cell_type": "code",
   "execution_count": null,
   "metadata": {
    "colab": {
     "base_uri": "https://localhost:8080/"
    },
    "executionInfo": {
     "elapsed": 6608,
     "status": "ok",
     "timestamp": 1753778181050,
     "user": {
      "displayName": "Mathis RABUSSEAU",
      "userId": "06257287053368358166"
     },
     "user_tz": -420
    },
    "id": "h2PjpUUEKlZE",
    "outputId": "899a0b0e-7551-4fc2-9afa-8264ba5ed917"
   },
   "outputs": [
    {
     "name": "stdout",
     "output_type": "stream",
     "text": [
      "Collecting keras_tuner\n",
      "  Downloading keras_tuner-1.4.7-py3-none-any.whl.metadata (5.4 kB)\n",
      "Requirement already satisfied: keras in /usr/local/lib/python3.11/dist-packages (from keras_tuner) (3.8.0)\n",
      "Requirement already satisfied: packaging in /usr/local/lib/python3.11/dist-packages (from keras_tuner) (25.0)\n",
      "Requirement already satisfied: requests in /usr/local/lib/python3.11/dist-packages (from keras_tuner) (2.32.3)\n",
      "Collecting kt-legacy (from keras_tuner)\n",
      "  Downloading kt_legacy-1.0.5-py3-none-any.whl.metadata (221 bytes)\n",
      "Requirement already satisfied: absl-py in /usr/local/lib/python3.11/dist-packages (from keras->keras_tuner) (1.4.0)\n",
      "Requirement already satisfied: numpy in /usr/local/lib/python3.11/dist-packages (from keras->keras_tuner) (2.0.2)\n",
      "Requirement already satisfied: rich in /usr/local/lib/python3.11/dist-packages (from keras->keras_tuner) (13.9.4)\n",
      "Requirement already satisfied: namex in /usr/local/lib/python3.11/dist-packages (from keras->keras_tuner) (0.1.0)\n",
      "Requirement already satisfied: h5py in /usr/local/lib/python3.11/dist-packages (from keras->keras_tuner) (3.14.0)\n",
      "Requirement already satisfied: optree in /usr/local/lib/python3.11/dist-packages (from keras->keras_tuner) (0.16.0)\n",
      "Requirement already satisfied: ml-dtypes in /usr/local/lib/python3.11/dist-packages (from keras->keras_tuner) (0.4.1)\n",
      "Requirement already satisfied: charset-normalizer<4,>=2 in /usr/local/lib/python3.11/dist-packages (from requests->keras_tuner) (3.4.2)\n",
      "Requirement already satisfied: idna<4,>=2.5 in /usr/local/lib/python3.11/dist-packages (from requests->keras_tuner) (3.10)\n",
      "Requirement already satisfied: urllib3<3,>=1.21.1 in /usr/local/lib/python3.11/dist-packages (from requests->keras_tuner) (2.5.0)\n",
      "Requirement already satisfied: certifi>=2017.4.17 in /usr/local/lib/python3.11/dist-packages (from requests->keras_tuner) (2025.7.14)\n",
      "Requirement already satisfied: typing-extensions>=4.6.0 in /usr/local/lib/python3.11/dist-packages (from optree->keras->keras_tuner) (4.14.1)\n",
      "Requirement already satisfied: markdown-it-py>=2.2.0 in /usr/local/lib/python3.11/dist-packages (from rich->keras->keras_tuner) (3.0.0)\n",
      "Requirement already satisfied: pygments<3.0.0,>=2.13.0 in /usr/local/lib/python3.11/dist-packages (from rich->keras->keras_tuner) (2.19.2)\n",
      "Requirement already satisfied: mdurl~=0.1 in /usr/local/lib/python3.11/dist-packages (from markdown-it-py>=2.2.0->rich->keras->keras_tuner) (0.1.2)\n",
      "Downloading keras_tuner-1.4.7-py3-none-any.whl (129 kB)\n",
      "\u001b[2K   \u001b[90m━━━━━━━━━━━━━━━━━━━━━━━━━━━━━━━━━━━━━━━━\u001b[0m \u001b[32m129.1/129.1 kB\u001b[0m \u001b[31m5.3 MB/s\u001b[0m eta \u001b[36m0:00:00\u001b[0m\n",
      "\u001b[?25hDownloading kt_legacy-1.0.5-py3-none-any.whl (9.6 kB)\n",
      "Installing collected packages: kt-legacy, keras_tuner\n",
      "Successfully installed keras_tuner-1.4.7 kt-legacy-1.0.5\n"
     ]
    }
   ],
   "source": [
    "pip install keras_tuner"
   ]
  },
  {
   "cell_type": "code",
   "execution_count": null,
   "metadata": {
    "id": "_PBQefEGLK59"
   },
   "outputs": [],
   "source": [
    "from tensorflow.keras.callbacks import EarlyStopping, ModelCheckpoint, Callback\n",
    "\n",
    "class CustomEarlyStoppingCallback(Callback):\n",
    "    def __init__(self, acc_threshold=0.40, acc_epoch_limit=15,\n",
    "                 overfit_threshold=0.3, overfit_patience=3):\n",
    "        super().__init__()\n",
    "        self.acc_threshold = acc_threshold\n",
    "        self.acc_epoch_limit = acc_epoch_limit - 1  # epochs are zero-indexed\n",
    "        self.overfit_threshold = overfit_threshold\n",
    "        self.overfit_patience = overfit_patience\n",
    "        self.overfit_counter = 0\n",
    "\n",
    "    def on_epoch_end(self, epoch, logs=None):\n",
    "        logs = logs or {}\n",
    "        val_acc = logs.get('val_accuracy')\n",
    "        val_loss = logs.get('val_loss')\n",
    "        loss = logs.get('loss')\n",
    "\n",
    "        # 1. stop if val_accuracy < acc_threshold after N epochs\n",
    "        if epoch == self.acc_epoch_limit:\n",
    "            if val_acc is not None and val_acc < self.acc_threshold:\n",
    "                print(f\"\\n🔴 Anticipated stop : val_accuracy ({val_acc:.2%}) < {self.acc_threshold:.0%} after {epoch+1} epochs.\")\n",
    "                self.model.stop_training = True\n",
    "\n",
    "        # 2. Stop if overrfitting detecting during N epochs\n",
    "        if val_loss is not None and loss is not None:\n",
    "            if val_loss - loss > self.overfit_threshold:\n",
    "                self.overfit_counter += 1\n",
    "                print(f\"⚠️ Overfitting detected at {epoch+1}: val_loss - loss = {val_loss - loss:.4f} (count: {self.overfit_counter})\")\n",
    "                if self.overfit_counter >= self.overfit_patience:\n",
    "                    print(f\"\\n🛑 nticipated stop : overfitting detected during {self.overfit_patience} consecutives epochs.\")\n",
    "                    self.model.stop_training = True\n",
    "            else:\n",
    "                self.overfit_counter = 0\n",
    "\n",
    "def newEarlyStoping():\n",
    "    return EarlyStopping(\n",
    "        monitor='val_loss',\n",
    "        patience=8,\n",
    "        restore_best_weights=True,\n",
    "        verbose=1\n",
    "    )"
   ]
  },
  {
   "cell_type": "markdown",
   "metadata": {
    "id": "ROxP7UKAJ9B1"
   },
   "source": [
    "# **Parametres tuning**"
   ]
  },
  {
   "cell_type": "code",
   "execution_count": null,
   "metadata": {
    "id": "suZCGfykOJuI"
   },
   "outputs": [],
   "source": [
    "#Constants:\n",
    "number_trial = 15\n",
    "number_epochs = 50"
   ]
  },
  {
   "cell_type": "markdown",
   "metadata": {
    "id": "XuMC-y4cKCrY"
   },
   "source": [
    "#### GRU - 2 layers"
   ]
  },
  {
   "cell_type": "code",
   "execution_count": null,
   "metadata": {
    "id": "q78O9cp_LUM4"
   },
   "outputs": [],
   "source": [
    "import keras_tuner as kt\n",
    "from tensorflow.keras.models import Sequential\n",
    "from tensorflow.keras.layers import GRU, Dense, Dropout, LSTM\n",
    "\n",
    "def build_model(hp):\n",
    "    model = Sequential()\n",
    "\n",
    "    # Number of neurons of the first layer\n",
    "    model.add(GRU(units=hp.Int('unit_layer1', min_value=64, max_value=256, step=64),\n",
    "                  input_shape=(X_train.shape[1], X_train.shape[2]),\n",
    "                  return_sequences=True))\n",
    "    model.add(Dropout(hp.Float('dropout1', 0.1, 0.5, step=0.15)))\n",
    "\n",
    "    # 2nd layer\n",
    "    model.add(GRU(units=hp.Int('unit_layer2', min_value=16, max_value=128, step=16),\n",
    "                  return_sequences=False))\n",
    "    model.add(Dropout(hp.Float('dropout2', 0.1, 0.5, step=0.15)))\n",
    "\n",
    "    # Dense final layer\n",
    "    model.add(Dense(units=hp.Int('dense_units', min_value=16, max_value=96, step=16),\n",
    "                    activation='relu'))\n",
    "    model.add(Dense(num_classes, activation='softmax'))\n",
    "\n",
    "    model.compile(\n",
    "        optimizer='adam',\n",
    "        loss='sparse_categorical_crossentropy',\n",
    "        metrics=['accuracy']\n",
    "    )\n",
    "    return model"
   ]
  },
  {
   "cell_type": "code",
   "execution_count": null,
   "metadata": {
    "colab": {
     "base_uri": "https://localhost:8080/"
    },
    "executionInfo": {
     "elapsed": 3051496,
     "status": "ok",
     "timestamp": 1753674052513,
     "user": {
      "displayName": "Mathis RABUSSEAU",
      "userId": "06257287053368358166"
     },
     "user_tz": -420
    },
    "id": "9rfTTwXhLZOR",
    "outputId": "52ec15c8-c961-4b10-f887-cb071df6ff07"
   },
   "outputs": [
    {
     "name": "stdout",
     "output_type": "stream",
     "text": [
      "Trial 15 Complete [00h 03m 27s]\n",
      "val_accuracy: 0.9279999732971191\n",
      "\n",
      "Best val_accuracy So Far: 0.9284999966621399\n",
      "Total elapsed time: 00h 50m 51s\n"
     ]
    }
   ],
   "source": [
    "reset_seeds()\n",
    "early_stopping = newEarlyStoping() # Classic Early stopping\n",
    "custom_stop = CustomEarlyStoppingCallback() # callback\n",
    "\n",
    "\n",
    "tuner_gru_gru = kt.BayesianOptimization(\n",
    "    build_model,  # function to build the model\n",
    "    objective='val_accuracy',\n",
    "    max_trials=number_trial,\n",
    "    directory='tuner_bayes',\n",
    "    project_name='gru_gru_audio_bayes'\n",
    ")\n",
    "\n",
    "#Runing the tuner\n",
    "tuner_gru_gru.search(X_train, y_train,\n",
    "             epochs=number_epochs,\n",
    "             validation_data=(X_test, y_test),\n",
    "             callbacks=[early_stopping, custom_stop])"
   ]
  },
  {
   "cell_type": "code",
   "execution_count": null,
   "metadata": {
    "colab": {
     "base_uri": "https://localhost:8080/"
    },
    "executionInfo": {
     "elapsed": 7,
     "status": "ok",
     "timestamp": 1753674379147,
     "user": {
      "displayName": "Mathis RABUSSEAU",
      "userId": "06257287053368358166"
     },
     "user_tz": -420
    },
    "id": "4YqXbm2M36ie",
    "outputId": "0241d8ff-7ec9-4a93-e971-6c3701e99878"
   },
   "outputs": [
    {
     "name": "stdout",
     "output_type": "stream",
     "text": [
      "\n",
      "🔧 Best configuration #1 — Validation Accuracy : 92.85%\n",
      "  unit_layer1: 256\n",
      "  dropout1: 0.4\n",
      "  unit_layer2: 128\n",
      "  dropout2: 0.25\n",
      "  dense_units: 16\n",
      "\n",
      "🔧 Best configuration #2 — Validation Accuracy : 92.80%\n",
      "  unit_layer1: 256\n",
      "  dropout1: 0.4\n",
      "  unit_layer2: 128\n",
      "  dropout2: 0.1\n",
      "  dense_units: 16\n",
      "\n",
      "🔧 Best configuration #3 — Validation Accuracy : 91.30%\n",
      "  unit_layer1: 128\n",
      "  dropout1: 0.4\n",
      "  unit_layer2: 128\n",
      "  dropout2: 0.4\n",
      "  dense_units: 96\n"
     ]
    }
   ],
   "source": [
    "# Getting the 3 best models with their performances\n",
    "best_gru_gru = sorted(\n",
    "    tuner_gru_gru.oracle.trials.values(),\n",
    "    key=lambda t: t.metrics.get_last_value('val_accuracy'),\n",
    "    reverse=True\n",
    ")[:3]\n",
    "\n",
    "# Display\n",
    "for i, trial in enumerate(best_gru_gru):\n",
    "    print(f\"\\n🔧 Best configuration #{i+1} — Validation Accuracy : {trial.metrics.get_last_value('val_accuracy'):.2%}\")\n",
    "\n",
    "    for param, value in trial.hyperparameters.values.items():\n",
    "        print(f\"  {param}: {value}\")\n",
    "\n",
    "# Saving for later\n",
    "with open(\"best_gru_gru.pkl\", \"wb\") as f:\n",
    "    pickle.dump(best_gru_gru, f)"
   ]
  },
  {
   "cell_type": "code",
   "execution_count": null,
   "metadata": {
    "id": "W6sSpsVx-KQR"
   },
   "outputs": [],
   "source": [
    "# Loading\n",
    "with open(\"best_gru_gru.pkl\", \"rb\") as f:\n",
    "    best_gru_gru = pickle.load(f)"
   ]
  },
  {
   "cell_type": "markdown",
   "metadata": {
    "id": "DUJ6ziBsKF8U"
   },
   "source": [
    "#### LSTM - 2 layers"
   ]
  },
  {
   "cell_type": "code",
   "execution_count": null,
   "metadata": {
    "id": "hPsS4nO7Lzeh"
   },
   "outputs": [],
   "source": [
    "import keras_tuner as kt\n",
    "from tensorflow.keras.models import Sequential\n",
    "from tensorflow.keras.layers import GRU, Dense, Dropout, LSTM\n",
    "\n",
    "def build_model(hp):\n",
    "    model = Sequential()\n",
    "\n",
    "    model.add(LSTM(units=hp.Int('unit_layer1', min_value=64, max_value=256, step=64),\n",
    "                  input_shape=(X_train.shape[1], X_train.shape[2]),\n",
    "                  return_sequences=True))\n",
    "    model.add(Dropout(hp.Float('dropout1', 0.1, 0.5, step=0.15)))\n",
    "\n",
    "    model.add(LSTM(units=hp.Int('unit_layer2', min_value=16, max_value=128, step=16),\n",
    "                  return_sequences=False))\n",
    "    model.add(Dropout(hp.Float('dropout2', 0.1, 0.5, step=0.15)))\n",
    "\n",
    "    model.add(Dense(units=hp.Int('dense_units', min_value=16, max_value=96, step=16),\n",
    "                    activation='relu'))\n",
    "    model.add(Dense(num_classes, activation='softmax'))\n",
    "\n",
    "    model.compile(\n",
    "        optimizer='adam',\n",
    "        loss='sparse_categorical_crossentropy',\n",
    "        metrics=['accuracy']\n",
    "    )\n",
    "    return model"
   ]
  },
  {
   "cell_type": "code",
   "execution_count": null,
   "metadata": {
    "colab": {
     "base_uri": "https://localhost:8080/"
    },
    "executionInfo": {
     "elapsed": 2697493,
     "status": "ok",
     "timestamp": 1753677103384,
     "user": {
      "displayName": "Mathis RABUSSEAU",
      "userId": "06257287053368358166"
     },
     "user_tz": -420
    },
    "id": "HR3mB6XOLzeh",
    "outputId": "02ce0169-febf-4155-d18c-08ceb7c72573"
   },
   "outputs": [
    {
     "name": "stdout",
     "output_type": "stream",
     "text": [
      "Trial 15 Complete [00h 01m 27s]\n",
      "val_accuracy: 0.23250000178813934\n",
      "\n",
      "Best val_accuracy So Far: 0.8939999938011169\n",
      "Total elapsed time: 00h 44m 57s\n"
     ]
    }
   ],
   "source": [
    "reset_seeds()\n",
    "early_stopping = newEarlyStoping() # Classical early stopping\n",
    "custom_stop = CustomEarlyStoppingCallback() # callback\n",
    "\n",
    "tuner_lstm_lstm = kt.BayesianOptimization(\n",
    "    build_model,  # function to build the model\n",
    "    objective='val_accuracy',\n",
    "    max_trials=number_trial,\n",
    "    directory='tuner_bayes',\n",
    "    project_name='lstm_lstm_audio_bayes'\n",
    ")\n",
    "\n",
    "tuner_lstm_lstm.search(X_train, y_train,\n",
    "             epochs=number_epochs,\n",
    "             validation_data=(X_test, y_test),\n",
    "             callbacks=[early_stopping, custom_stop])"
   ]
  },
  {
   "cell_type": "code",
   "execution_count": null,
   "metadata": {
    "colab": {
     "base_uri": "https://localhost:8080/"
    },
    "executionInfo": {
     "elapsed": 16,
     "status": "ok",
     "timestamp": 1753677476679,
     "user": {
      "displayName": "Mathis RABUSSEAU",
      "userId": "06257287053368358166"
     },
     "user_tz": -420
    },
    "id": "MTmCTrhB5g_n",
    "outputId": "5ae38f6d-6630-4bda-ae6e-6bdfdac85344"
   },
   "outputs": [
    {
     "name": "stdout",
     "output_type": "stream",
     "text": [
      "\n",
      "🔧 Best configuration #1 — Validation Accuracy : 89.40%\n",
      "  unit_layer1: 192\n",
      "  dropout1: 0.1\n",
      "  unit_layer2: 48\n",
      "  dropout2: 0.25\n",
      "  dense_units: 32\n",
      "\n",
      "🔧 Best configuration #2 — Validation Accuracy : 89.25%\n",
      "  unit_layer1: 128\n",
      "  dropout1: 0.4\n",
      "  unit_layer2: 128\n",
      "  dropout2: 0.25\n",
      "  dense_units: 80\n",
      "\n",
      "🔧 Best configuration #3 — Validation Accuracy : 89.20%\n",
      "  unit_layer1: 256\n",
      "  dropout1: 0.25\n",
      "  unit_layer2: 80\n",
      "  dropout2: 0.25\n",
      "  dense_units: 80\n"
     ]
    }
   ],
   "source": [
    "# Getting the 3 best models with their performances\n",
    "best_lstm_lstm = sorted(\n",
    "    tuner_lstm_lstm.oracle.trials.values(),\n",
    "    key=lambda t: t.metrics.get_last_value('val_accuracy'),\n",
    "    reverse=True\n",
    ")[:3]\n",
    "# Display\n",
    "for i, trial in enumerate(best_lstm_lstm):\n",
    "    print(f\"\\n🔧 Best configuration #{i+1} — Validation Accuracy : {trial.metrics.get_last_value('val_accuracy'):.2%}\")\n",
    "\n",
    "    for param, value in trial.hyperparameters.values.items():\n",
    "        print(f\"  {param}: {value}\")\n",
    "\n",
    "# Save\n",
    "with open(\"best_lstm_lstm.pkl\", \"wb\") as f:\n",
    "    pickle.dump(best_lstm_lstm, f)"
   ]
  },
  {
   "cell_type": "markdown",
   "metadata": {
    "id": "vYSdI3ACKRS2"
   },
   "source": [
    "#### GRU + LSTM"
   ]
  },
  {
   "cell_type": "code",
   "execution_count": null,
   "metadata": {
    "id": "Z7fhj0snM0hH"
   },
   "outputs": [],
   "source": [
    "import keras_tuner as kt\n",
    "from tensorflow.keras.models import Sequential\n",
    "from tensorflow.keras.layers import GRU, Dense, Dropout, LSTM\n",
    "\n",
    "def build_model(hp):\n",
    "    model = Sequential()\n",
    "\n",
    "    model.add(GRU(units=hp.Int('unit_layer1', min_value=64, max_value=256, step=64),\n",
    "                  input_shape=(X_train.shape[1], X_train.shape[2]),\n",
    "                  return_sequences=True))\n",
    "    model.add(Dropout(hp.Float('dropout1', 0.1, 0.5, step=0.15)))\n",
    "\n",
    "    model.add(LSTM(units=hp.Int('unit_layer2', min_value=16, max_value=128, step=16),\n",
    "                  return_sequences=False))\n",
    "    model.add(Dropout(hp.Float('dropout2', 0.1, 0.5, step=0.15)))\n",
    "\n",
    "    model.add(Dense(units=hp.Int('dense_units', min_value=16, max_value=96, step=16),\n",
    "                    activation='relu'))\n",
    "    model.add(Dense(num_classes, activation='softmax'))\n",
    "\n",
    "    model.compile(\n",
    "        optimizer='adam',\n",
    "        loss='sparse_categorical_crossentropy',\n",
    "        metrics=['accuracy']\n",
    "    )\n",
    "    return model"
   ]
  },
  {
   "cell_type": "code",
   "execution_count": null,
   "metadata": {
    "colab": {
     "base_uri": "https://localhost:8080/"
    },
    "executionInfo": {
     "elapsed": 4089771,
     "status": "ok",
     "timestamp": 1753761116894,
     "user": {
      "displayName": "Mathis RABUSSEAU",
      "userId": "06257287053368358166"
     },
     "user_tz": -420
    },
    "id": "5RbXjRlkM0hI",
    "outputId": "d8c2f18d-baa6-4f6d-b39b-21c705d3e6ae"
   },
   "outputs": [
    {
     "name": "stdout",
     "output_type": "stream",
     "text": [
      "Trial 15 Complete [00h 04m 53s]\n",
      "val_accuracy: 0.8784999847412109\n",
      "\n",
      "Best val_accuracy So Far: 0.9039999842643738\n",
      "Total elapsed time: 01h 08m 07s\n"
     ]
    }
   ],
   "source": [
    "reset_seeds()\n",
    "early_stopping = newEarlyStoping() # Early stopping classique\n",
    "custom_stop = CustomEarlyStoppingCallback() # callback\n",
    "\n",
    "tuner_gru_lstm = kt.BayesianOptimization(\n",
    "    build_model, #function to buid the model\n",
    "    objective='val_accuracy',\n",
    "    max_trials=number_trial,\n",
    "    directory='tuner_bayes',\n",
    "    project_name='gru_lstm_audio_bayes'\n",
    ")\n",
    "\n",
    "tuner_gru_lstm.search(X_train, y_train,\n",
    "             epochs=number_epochs,\n",
    "             validation_data=(X_test, y_test),\n",
    "             callbacks=[early_stopping, custom_stop])"
   ]
  },
  {
   "cell_type": "code",
   "execution_count": null,
   "metadata": {
    "colab": {
     "base_uri": "https://localhost:8080/"
    },
    "executionInfo": {
     "elapsed": 20,
     "status": "ok",
     "timestamp": 1753761297281,
     "user": {
      "displayName": "Mathis RABUSSEAU",
      "userId": "06257287053368358166"
     },
     "user_tz": -420
    },
    "id": "fxRfuGVZ5oBD",
    "outputId": "9ae04884-deea-45c8-9d2e-97e8789d1e54"
   },
   "outputs": [
    {
     "name": "stdout",
     "output_type": "stream",
     "text": [
      "\n",
      "🔧 Best configuration #1 — Validation Accuracy : 90.40%\n",
      "  unit_layer1: 192\n",
      "  dropout1: 0.25\n",
      "  unit_layer2: 16\n",
      "  dropout2: 0.1\n",
      "  dense_units: 32\n",
      "\n",
      "🔧 Best configuration #2 — Validation Accuracy : 89.30%\n",
      "  unit_layer1: 192\n",
      "  dropout1: 0.25\n",
      "  unit_layer2: 64\n",
      "  dropout2: 0.4\n",
      "  dense_units: 48\n",
      "\n",
      "🔧 Best configuration #3 — Validation Accuracy : 89.30%\n",
      "  unit_layer1: 256\n",
      "  dropout1: 0.25\n",
      "  unit_layer2: 32\n",
      "  dropout2: 0.25\n",
      "  dense_units: 64\n"
     ]
    }
   ],
   "source": [
    "# Getting the 3 best models with their performances\n",
    "best_gru_lstm = sorted(\n",
    "    tuner_gru_lstm.oracle.trials.values(),\n",
    "    key=lambda t: t.metrics.get_last_value('val_accuracy'),\n",
    "    reverse=True\n",
    ")[:3]\n",
    "\n",
    "# Display\n",
    "for i, trial in enumerate(best_gru_lstm):\n",
    "    print(f\"\\n🔧 Best configuration #{i+1} — Validation Accuracy : {trial.metrics.get_last_value('val_accuracy'):.2%}\")\n",
    "\n",
    "    for param, value in trial.hyperparameters.values.items():\n",
    "        print(f\"  {param}: {value}\")\n",
    "\n",
    "# Loading\n",
    "with open(\"best_gru_lstm.pkl\", \"wb\") as f:\n",
    "    pickle.dump(best_gru_lstm, f)"
   ]
  },
  {
   "cell_type": "markdown",
   "metadata": {
    "id": "KjZA_zpXKZEY"
   },
   "source": [
    "#### LSTM + GRU"
   ]
  },
  {
   "cell_type": "code",
   "execution_count": null,
   "metadata": {
    "id": "AJFCerlbOdOa"
   },
   "outputs": [],
   "source": [
    "import keras_tuner as kt\n",
    "from tensorflow.keras.models import Sequential\n",
    "from tensorflow.keras.layers import GRU, Dense, Dropout, LSTM\n",
    "\n",
    "def build_model(hp):\n",
    "    model = Sequential()\n",
    "\n",
    "    model.add(LSTM(units=hp.Int('unit_layer1', min_value=64, max_value=256, step=64),\n",
    "                  input_shape=(X_train.shape[1], X_train.shape[2]),\n",
    "                  return_sequences=True))\n",
    "    model.add(Dropout(hp.Float('dropout1', 0.1, 0.5, step=0.15)))\n",
    "\n",
    "    model.add(GRU(units=hp.Int('unit_layer2', min_value=16, max_value=128, step=16),\n",
    "                  return_sequences=False))\n",
    "    model.add(Dropout(hp.Float('dropout2', 0.1, 0.5, step=0.15)))\n",
    "\n",
    "    model.add(Dense(units=hp.Int('dense_units', min_value=16, max_value=96, step=16),\n",
    "                    activation='relu'))\n",
    "    model.add(Dense(num_classes, activation='softmax'))\n",
    "\n",
    "    model.compile(\n",
    "        optimizer='adam',\n",
    "        loss='sparse_categorical_crossentropy',\n",
    "        metrics=['accuracy']\n",
    "    )\n",
    "    return model"
   ]
  },
  {
   "cell_type": "code",
   "execution_count": null,
   "metadata": {
    "colab": {
     "base_uri": "https://localhost:8080/"
    },
    "executionInfo": {
     "elapsed": 690932,
     "status": "ok",
     "timestamp": 1753765048569,
     "user": {
      "displayName": "Mathis RABUSSEAU",
      "userId": "06257287053368358166"
     },
     "user_tz": -420
    },
    "id": "GHI-YwWNOdOb",
    "outputId": "ca529818-2437-45aa-cd42-73bf4e5f4eef"
   },
   "outputs": [
    {
     "name": "stdout",
     "output_type": "stream",
     "text": [
      "Trial 15 Complete [00h 01m 29s]\n",
      "val_accuracy: 0.22550000250339508\n",
      "\n",
      "Best val_accuracy So Far: 0.9350000023841858\n",
      "Total elapsed time: 00h 55m 54s\n"
     ]
    }
   ],
   "source": [
    "reset_seeds()\n",
    "early_stopping = newEarlyStoping() # Classical Early stopping\n",
    "custom_stop = CustomEarlyStoppingCallback() # callback\n",
    "\n",
    "tuner_lstm_gru = kt.BayesianOptimization(\n",
    "    build_model,  # function to build the model\n",
    "    objective='val_accuracy',\n",
    "    max_trials=number_trial,\n",
    "    directory='tuner_bayes',\n",
    "    project_name='lstmgru_audio_bayes'\n",
    ")\n",
    "\n",
    "tuner_lstm_gru.search(X_train, y_train,\n",
    "             epochs=number_epochs,\n",
    "             validation_data=(X_test, y_test),\n",
    "             callbacks=[early_stopping, custom_stop])"
   ]
  },
  {
   "cell_type": "code",
   "execution_count": null,
   "metadata": {
    "colab": {
     "base_uri": "https://localhost:8080/"
    },
    "executionInfo": {
     "elapsed": 6,
     "status": "ok",
     "timestamp": 1753765512672,
     "user": {
      "displayName": "Mathis RABUSSEAU",
      "userId": "06257287053368358166"
     },
     "user_tz": -420
    },
    "id": "mXvhfeLu5vAE",
    "outputId": "6d56c23e-1da4-4bb4-9d11-d4f66abe521e"
   },
   "outputs": [
    {
     "name": "stdout",
     "output_type": "stream",
     "text": [
      "\n",
      "🔧 Best configuration #1 — Validation Accuracy : 93.50%\n",
      "  unit_layer1: 256\n",
      "  dropout1: 0.4\n",
      "  unit_layer2: 128\n",
      "  dropout2: 0.25\n",
      "  dense_units: 16\n",
      "\n",
      "🔧 Best configuration #2 — Validation Accuracy : 93.20%\n",
      "  unit_layer1: 256\n",
      "  dropout1: 0.1\n",
      "  unit_layer2: 80\n",
      "  dropout2: 0.1\n",
      "  dense_units: 16\n",
      "\n",
      "🔧 Best configuration #3 — Validation Accuracy : 93.15%\n",
      "  unit_layer1: 256\n",
      "  dropout1: 0.4\n",
      "  unit_layer2: 48\n",
      "  dropout2: 0.25\n",
      "  dense_units: 48\n"
     ]
    }
   ],
   "source": [
    "# Getting the 3 best models with their performances\n",
    "best_lstm_gru = sorted(\n",
    "    tuner_lstm_gru.oracle.trials.values(),\n",
    "    key=lambda t: t.metrics.get_last_value('val_accuracy'),\n",
    "    reverse=True\n",
    ")[:3]\n",
    "\n",
    "# Display\n",
    "for i, trial in enumerate(best_lstm_gru):\n",
    "    print(f\"\\n🔧 Best configuration #{i+1} — Validation Accuracy : {trial.metrics.get_last_value('val_accuracy'):.2%}\")\n",
    "\n",
    "    for param, value in trial.hyperparameters.values.items():\n",
    "        print(f\"  {param}: {value}\")\n",
    "\n",
    "# Saving\n",
    "with open(\"best_lstm_gru.pkl\", \"wb\") as f:\n",
    "    pickle.dump(best_lstm_gru, f)"
   ]
  },
  {
   "cell_type": "markdown",
   "metadata": {
    "id": "ZNgnQ7jsRIjR"
   },
   "source": [
    "# **Training functions**"
   ]
  },
  {
   "cell_type": "code",
   "execution_count": null,
   "metadata": {
    "id": "7iCrl42ovQqm"
   },
   "outputs": [],
   "source": [
    "\"\"\" Train the given model with the given seed and given data\n",
    "\"\"\"\n",
    "def train_model(model, seed, X_train, y_train, X_val, y_val):\n",
    "  reset_seeds(seed)\n",
    "  early_stopping = EarlyStopping(\n",
    "    monitor='val_loss',\n",
    "    patience=8,\n",
    "    restore_best_weights=True,\n",
    "    verbose=1)\n",
    "\n",
    "  # Automatic saving of the best model (based on val_loss)\n",
    "  checkpoint = ModelCheckpoint(\n",
    "    'best_gru_lstm_model.h5',\n",
    "    monitor='val_loss',\n",
    "    save_best_only=True,\n",
    "    verbose=1\n",
    "    )\n",
    "\n",
    "  history = model.fit(\n",
    "    X_train, y_train,\n",
    "    epochs=50,\n",
    "    batch_size=32,\n",
    "    validation_data=(X_val, y_val),\n",
    "    callbacks=[early_stopping, checkpoint],\n",
    "    shuffle = False\n",
    "  )\n",
    "  return history\n",
    "\n",
    "\n",
    "import time\n",
    "\n",
    "\"\"\" Print the keys caracteristics from the histories\n",
    "\"\"\"\n",
    "def print_histories(histories):\n",
    "  for i, history in enumerate(histories):\n",
    "    val_accuracies = history.history.get('val_accuracy', [])\n",
    "    val_losses = history.history.get('val_loss', [])\n",
    "\n",
    "    if val_accuracies and val_losses:\n",
    "        best_idx = max(range(len(val_accuracies)), key=lambda j: val_accuracies[j])\n",
    "        best_val_acc = val_accuracies[best_idx]\n",
    "        corresponding_val_loss = val_losses[best_idx]\n",
    "        2\n",
    "        print(f\"📊 Modèle #{i+1} → val_accuracy: {best_val_acc:.4f} | val_loss: {corresponding_val_loss:.4f} | time {history.history['train_duration']:.2f} | nb_epochs = {len(history.history['loss'])}\")\n",
    "    else:\n",
    "        print(f\"⚠️ Model #{i+1} : missing data.\")"
   ]
  },
  {
   "cell_type": "markdown",
   "metadata": {
    "id": "2WoRUcQgJqKf"
   },
   "source": [
    "### Gru Gru"
   ]
  },
  {
   "cell_type": "code",
   "execution_count": null,
   "metadata": {
    "id": "BprDKb9BuV_L"
   },
   "outputs": [],
   "source": [
    "def build_gru_gru(nl1, drop1, nl2, drop2, ndense): #Return a Gru-Gru model with the specified values\n",
    "\n",
    "  model = Sequential()\n",
    "  model.add(GRU(nl1, input_shape=(X_train.shape[1], X_train.shape[2]), return_sequences=True))\n",
    "  model.add(Dropout(drop1))\n",
    "  model.add(GRU(nl2, return_sequences=False))\n",
    "  model.add(Dropout(drop2))\n",
    "  model.add(Dense(ndense, activation='relu'))\n",
    "  model.add(Dense(num_classes, activation='softmax'))\n",
    "  model.compile(loss='categorical_crossentropy', optimizer='adam', metrics=['accuracy'])\n",
    "  return model"
   ]
  },
  {
   "cell_type": "markdown",
   "metadata": {
    "id": "sclMPCTNJs8Q"
   },
   "source": [
    "### LSTM-LSTM"
   ]
  },
  {
   "cell_type": "code",
   "execution_count": null,
   "metadata": {
    "id": "0rWS1b1QJ0Bk"
   },
   "outputs": [],
   "source": [
    "def build_lstm_lstm(nl1, drop1, nl2, drop2, ndense):\n",
    "\n",
    "  model = Sequential()\n",
    "  model.add(LSTM(nl1, input_shape=(X_train.shape[1], X_train.shape[2]), return_sequences=True))\n",
    "  model.add(Dropout(drop1))\n",
    "  model.add(LSTM(nl2, return_sequences=False))\n",
    "  model.add(Dropout(drop2))\n",
    "  model.add(Dense(ndense, activation='relu'))\n",
    "  model.add(Dense(num_classes, activation='softmax'))\n",
    "  model.compile(loss='categorical_crossentropy', optimizer='adam', metrics=['accuracy'])\n",
    "  return model"
   ]
  },
  {
   "cell_type": "markdown",
   "metadata": {
    "id": "BYN_25dINTtM"
   },
   "source": [
    "### GRU - LSTM"
   ]
  },
  {
   "cell_type": "code",
   "execution_count": null,
   "metadata": {
    "id": "lH6vwZ8iN831"
   },
   "outputs": [],
   "source": [
    "def build_gru_lstm(nl1, drop1, nl2, drop2, ndense):\n",
    "\n",
    "  model = Sequential()\n",
    "  model.add(GRU(nl1, input_shape=(X_train.shape[1], X_train.shape[2]), return_sequences=True))\n",
    "  model.add(Dropout(drop1))\n",
    "  model.add(LSTM(nl2, return_sequences=False))\n",
    "  model.add(Dropout(drop2))\n",
    "  model.add(Dense(ndense, activation='relu'))\n",
    "  model.add(Dense(num_classes, activation='softmax'))\n",
    "  model.compile(loss='categorical_crossentropy', optimizer='adam', metrics=['accuracy'])\n",
    "  return model"
   ]
  },
  {
   "cell_type": "markdown",
   "metadata": {
    "id": "JJw7st8Ic2pn"
   },
   "source": [
    "###  LSTM-GRU"
   ]
  },
  {
   "cell_type": "code",
   "execution_count": null,
   "metadata": {
    "id": "E7Ipt5ulc5L5"
   },
   "outputs": [],
   "source": [
    "def build_lstm_gru(nl1, drop1, nl2, drop2, ndense):\n",
    "\n",
    "  model = Sequential()\n",
    "  model.add(LSTM(nl1, input_shape=(X_train.shape[1], X_train.shape[2]), return_sequences=True))\n",
    "  model.add(Dropout(drop1))\n",
    "  model.add(GRU(nl2, return_sequences=False))\n",
    "  model.add(Dropout(drop2))\n",
    "  model.add(Dense(ndense, activation='relu'))\n",
    "  model.add(Dense(num_classes, activation='softmax'))\n",
    "  model.compile(loss='categorical_crossentropy', optimizer='adam', metrics=['accuracy'])\n",
    "  return model"
   ]
  },
  {
   "cell_type": "markdown",
   "metadata": {
    "id": "i7F9iJ4v0EcP"
   },
   "source": [
    "# **Training with k split validation**"
   ]
  },
  {
   "cell_type": "markdown",
   "metadata": {},
   "source": [
    "The goal is to train each \"configuration\" 6 time with a different seed (to avoid initialization bias) and using 6-fold cross-validation (to avoid dataset bias)."
   ]
  },
  {
   "cell_type": "code",
   "execution_count": null,
   "metadata": {
    "id": "d7-SHgsr0DaC"
   },
   "outputs": [],
   "source": [
    "import time\n",
    "def run_cross_validation(X, y, model_generator):\n",
    "  histories = []\n",
    "\n",
    "  for i in range(6):\n",
    "\n",
    "    #Reseting the seed\n",
    "    seed = i\n",
    "    reset_seeds(seed)\n",
    "\n",
    "    #Generating the fold\n",
    "    n = len(X)\n",
    "    num_folds = 6\n",
    "    fold_size = n // num_folds\n",
    "    val_start = i * fold_size\n",
    "    val_end = (i + 1) * fold_size if i != num_folds - 1 else len(X)\n",
    "\n",
    "    val_idx = list(range(val_start, val_end))\n",
    "    train_idx = list(range(0, val_start)) + list(range(val_end, len(X)))\n",
    "\n",
    "    # Split X, y\n",
    "    X_train, y_train = X[train_idx], y[train_idx]\n",
    "    X_val, y_val = X[val_idx], y[val_idx]\n",
    "\n",
    "    #Generating the model\n",
    "\n",
    "    model = model_generator()\n",
    "\n",
    "    start_time = time.time()\n",
    "    history = train_model(model, seed, X_train, y_train, X_val, y_val)\n",
    "    duration = time.time() - start_time  # ⏱️ end timer\n",
    "\n",
    "    history.history['train_duration'] = duration  # ⏺️ add time to history\n",
    "    histories.append(history)\n",
    "  return histories"
   ]
  },
  {
   "cell_type": "markdown",
   "metadata": {
    "id": "4JoWFTgyzTxj"
   },
   "source": [
    "### GRU GRU"
   ]
  },
  {
   "cell_type": "code",
   "execution_count": null,
   "metadata": {
    "colab": {
     "base_uri": "https://localhost:8080/"
    },
    "collapsed": true,
    "executionInfo": {
     "elapsed": 3419124,
     "status": "ok",
     "timestamp": 1755068157886,
     "user": {
      "displayName": "Mathis RABUSSEAU",
      "userId": "06257287053368358166"
     },
     "user_tz": -420
    },
    "id": "tBLx1N38MS9x",
    "outputId": "2ba9717f-86c6-45f1-d5f0-c1f15c80f72a"
   },
   "outputs": [],
   "source": [
    "def cg_gg1():\n",
    "  return build_gru_gru(256, 0.4, 128, 0.25, 16)\n",
    "def cg_gg2():\n",
    "  return build_gru_gru(256, 0.4, 128, 0.1, 16)\n",
    "def cg_gg3():\n",
    "    return build_gru_gru(128, 0.4, 128, 0.4, 96)\n",
    "\n",
    "\n",
    "h_gg = run_cross_validation(X, y, cg_gg1) # stand for history_gru_gru\n",
    "h_gg += run_cross_validation(X,y,cg_gg2)\n",
    "h_gg+= run_cross_validation(X,y,cg_gg3)\n",
    "\n",
    "with open(\"history_gg.pkl\", \"wb\") as f:\n",
    "    pickle.dump(h_gg, f)"
   ]
  },
  {
   "cell_type": "code",
   "execution_count": null,
   "metadata": {
    "colab": {
     "base_uri": "https://localhost:8080/"
    },
    "executionInfo": {
     "elapsed": 7812,
     "status": "ok",
     "timestamp": 1754373290973,
     "user": {
      "displayName": "Mathis RABUSSEAU",
      "userId": "06257287053368358166"
     },
     "user_tz": -420
    },
    "id": "mv6SdYNMy5Cx",
    "outputId": "a07330e3-e557-4a89-adaf-87d5d52e725f"
   },
   "outputs": [],
   "source": [
    "with open(\"drive/MyDrive/Cours/Stage Pertamina/h_gg.pkl\", \"rb\") as f:\n",
    "    h_gg = pickle.load(f)"
   ]
  },
  {
   "cell_type": "code",
   "execution_count": null,
   "metadata": {
    "colab": {
     "base_uri": "https://localhost:8080/"
    },
    "executionInfo": {
     "elapsed": 66,
     "status": "ok",
     "timestamp": 1755068202568,
     "user": {
      "displayName": "Mathis RABUSSEAU",
      "userId": "06257287053368358166"
     },
     "user_tz": -420
    },
    "id": "TavjgQ7tV8a0",
    "outputId": "09d20218-4e98-461d-ab09-1ada7b033b4a"
   },
   "outputs": [
    {
     "name": "stdout",
     "output_type": "stream",
     "text": [
      "📊 Modèle #1 → val_accuracy: 0.9280 | val_loss: 0.2890 | time 171.84 | nb_epochs = 26\n",
      "📊 Modèle #2 → val_accuracy: 0.9250 | val_loss: 0.2988 | time 191.06 | nb_epochs = 29\n",
      "📊 Modèle #3 → val_accuracy: 0.9376 | val_loss: 0.2923 | time 206.11 | nb_epochs = 32\n",
      "📊 Modèle #4 → val_accuracy: 0.9328 | val_loss: 0.3090 | time 213.74 | nb_epochs = 33\n",
      "📊 Modèle #5 → val_accuracy: 0.9124 | val_loss: 0.3840 | time 125.67 | nb_epochs = 19\n",
      "📊 Modèle #6 → val_accuracy: 0.9335 | val_loss: 0.2776 | time 172.33 | nb_epochs = 26\n",
      "📊 Modèle #7 → val_accuracy: 0.9172 | val_loss: 0.3320 | time 165.49 | nb_epochs = 25\n",
      "📊 Modèle #8 → val_accuracy: 0.9160 | val_loss: 0.3122 | time 152.45 | nb_epochs = 23\n",
      "📊 Modèle #9 → val_accuracy: 0.9358 | val_loss: 0.3036 | time 218.39 | nb_epochs = 33\n",
      "📊 Modèle #10 → val_accuracy: 0.9238 | val_loss: 0.3234 | time 210.25 | nb_epochs = 32\n",
      "📊 Modèle #11 → val_accuracy: 0.9244 | val_loss: 0.3073 | time 132.27 | nb_epochs = 20\n",
      "📊 Modèle #12 → val_accuracy: 0.9347 | val_loss: 0.3032 | time 260.10 | nb_epochs = 40\n",
      "📊 Modèle #13 → val_accuracy: 0.9190 | val_loss: 0.3000 | time 169.47 | nb_epochs = 25\n",
      "📊 Modèle #14 → val_accuracy: 0.9244 | val_loss: 0.3199 | time 182.81 | nb_epochs = 27\n",
      "📊 Modèle #15 → val_accuracy: 0.9148 | val_loss: 0.3865 | time 164.58 | nb_epochs = 24\n",
      "📊 Modèle #16 → val_accuracy: 0.8782 | val_loss: 0.5211 | time 124.22 | nb_epochs = 18\n",
      "📊 Modèle #17 → val_accuracy: 0.9154 | val_loss: 0.3837 | time 206.40 | nb_epochs = 30\n",
      "📊 Modèle #18 → val_accuracy: 0.9341 | val_loss: 0.2856 | time 338.62 | nb_epochs = 49\n"
     ]
    }
   ],
   "source": [
    "print_histories(h_gg)"
   ]
  },
  {
   "cell_type": "markdown",
   "metadata": {
    "id": "UW-b84NvzYYQ"
   },
   "source": [
    "### LSTM LSTM"
   ]
  },
  {
   "cell_type": "code",
   "execution_count": null,
   "metadata": {
    "colab": {
     "base_uri": "https://localhost:8080/"
    },
    "collapsed": true,
    "executionInfo": {
     "elapsed": 4438632,
     "status": "ok",
     "timestamp": 1754377973030,
     "user": {
      "displayName": "Mathis RABUSSEAU",
      "userId": "06257287053368358166"
     },
     "user_tz": -420
    },
    "id": "vefk1Uh5za-6",
    "outputId": "c6c79187-62a1-45eb-f150-b1ea391e3486"
   },
   "outputs": [],
   "source": [
    "def cg_ll1():\n",
    "  return build_lstm_lstm(192, 0.1, 48, 0.25, 32)\n",
    "def cg_ll2():\n",
    "  return build_lstm_lstm(128, 0.4, 128, 0.25, 80)\n",
    "def cg_ll3():\n",
    "  return build_lstm_lstm(256, 0.25, 80, 0.25, 80)\n",
    "\n",
    "\n",
    "h_ll = run_cross_validation(X, y, cg_ll1)\n",
    "h_ll += run_cross_validation(X,y,cg_ll2)\n",
    "h_ll+= run_cross_validation(X,y,cg_ll3)\n",
    "\n",
    "with open(\"drive/MyDrive/Cours/Stage Pertamina/h_ll.pkl\", \"wb\") as f:\n",
    "    pickle.dump(h_ll, f)"
   ]
  },
  {
   "cell_type": "code",
   "execution_count": null,
   "metadata": {
    "id": "O3DgY2pKMGZC"
   },
   "outputs": [],
   "source": [
    "with open(\"drive/MyDrive/Cours/Stage Pertamina/h_ll.pkl\", \"wb\") as f:\n",
    "    pickle.dump(h_ll, f)"
   ]
  },
  {
   "cell_type": "code",
   "execution_count": null,
   "metadata": {
    "colab": {
     "base_uri": "https://localhost:8080/"
    },
    "executionInfo": {
     "elapsed": 71,
     "status": "ok",
     "timestamp": 1754980824489,
     "user": {
      "displayName": "Mathis RABUSSEAU",
      "userId": "06257287053368358166"
     },
     "user_tz": -420
    },
    "id": "xVdPJMQBJ53Z",
    "outputId": "17785768-6b34-4d33-c622-a2b2cbc85760"
   },
   "outputs": [
    {
     "name": "stdout",
     "output_type": "stream",
     "text": [
      "📊 Modèle #1 → val_accuracy: 0.2803 | val_loss: 1.5740 | time 60.58 | nb_epochs = 9\n",
      "📊 Modèle #2 → val_accuracy: 0.4094 | val_loss: 1.3965 | time 85.61 | nb_epochs = 13\n",
      "📊 Modèle #3 → val_accuracy: 0.9202 | val_loss: 0.3755 | time 301.83 | nb_epochs = 47\n",
      "📊 Modèle #4 → val_accuracy: 0.9238 | val_loss: 0.3223 | time 310.07 | nb_epochs = 48\n",
      "📊 Modèle #5 → val_accuracy: 0.9004 | val_loss: 0.4366 | time 321.27 | nb_epochs = 50\n",
      "📊 Modèle #6 → val_accuracy: 0.9108 | val_loss: 0.3456 | time 322.07 | nb_epochs = 50\n",
      "📊 Modèle #7 → val_accuracy: 0.3193 | val_loss: 1.5105 | time 57.92 | nb_epochs = 9\n",
      "📊 Modèle #8 → val_accuracy: 0.8914 | val_loss: 0.3769 | time 259.46 | nb_epochs = 42\n",
      "📊 Modèle #9 → val_accuracy: 0.9130 | val_loss: 0.3648 | time 308.03 | nb_epochs = 50\n",
      "📊 Modèle #10 → val_accuracy: 0.8974 | val_loss: 0.4237 | time 235.82 | nb_epochs = 38\n",
      "📊 Modèle #11 → val_accuracy: 0.3812 | val_loss: 1.4327 | time 76.21 | nb_epochs = 12\n",
      "📊 Modèle #12 → val_accuracy: 0.8928 | val_loss: 0.3924 | time 216.79 | nb_epochs = 35\n",
      "📊 Modèle #13 → val_accuracy: 0.9178 | val_loss: 0.3379 | time 324.13 | nb_epochs = 50\n",
      "📊 Modèle #14 → val_accuracy: 0.9322 | val_loss: 0.2717 | time 323.93 | nb_epochs = 50\n",
      "📊 Modèle #15 → val_accuracy: 0.4274 | val_loss: 1.2858 | time 323.88 | nb_epochs = 50\n",
      "📊 Modèle #16 → val_accuracy: 0.9148 | val_loss: 0.3396 | time 323.54 | nb_epochs = 50\n",
      "📊 Modèle #17 → val_accuracy: 0.9124 | val_loss: 0.3349 | time 259.81 | nb_epochs = 40\n",
      "📊 Modèle #18 → val_accuracy: 0.9192 | val_loss: 0.3273 | time 323.85 | nb_epochs = 50\n"
     ]
    }
   ],
   "source": [
    "print_histories(h_ll)"
   ]
  },
  {
   "cell_type": "markdown",
   "metadata": {
    "id": "qSIWEnubK1YP"
   },
   "source": [
    "### GRU-LSTM"
   ]
  },
  {
   "cell_type": "code",
   "execution_count": null,
   "metadata": {
    "colab": {
     "base_uri": "https://localhost:8080/"
    },
    "collapsed": true,
    "executionInfo": {
     "elapsed": 4333491,
     "status": "ok",
     "timestamp": 1754384281376,
     "user": {
      "displayName": "Mathis RABUSSEAU",
      "userId": "06257287053368358166"
     },
     "user_tz": -420
    },
    "id": "exw2LMoWK3jT",
    "outputId": "862c523d-e6bd-4579-9171-be7018598930"
   },
   "outputs": [],
   "source": [
    "def cg_gl1():\n",
    "  return build_gru_lstm(192, 0.25, 16, 0.1, 32)\n",
    "def cg_gl2():\n",
    "  return build_gru_lstm(192, 0.25, 64, 0.4, 48)\n",
    "def cg_gl3():\n",
    "  return build_gru_lstm(256, 0.25, 32, 0.25, 64)\n",
    "\n",
    "\n",
    "h_gl = run_cross_validation(X, y, cg_gl1)\n",
    "h_gl += run_cross_validation(X,y,cg_gl2)\n",
    "h_gl+= run_cross_validation(X,y,cg_gl3)\n",
    "\n",
    "with open(\"drive/MyDrive/Cours/Stage Pertamina/h_gl.pkl\", \"wb\") as f:\n",
    "    pickle.dump(h_gl, f)"
   ]
  },
  {
   "cell_type": "code",
   "execution_count": null,
   "metadata": {
    "colab": {
     "base_uri": "https://localhost:8080/"
    },
    "executionInfo": {
     "elapsed": 55,
     "status": "ok",
     "timestamp": 1754980794061,
     "user": {
      "displayName": "Mathis RABUSSEAU",
      "userId": "06257287053368358166"
     },
     "user_tz": -420
    },
    "id": "er4RtYludaUq",
    "outputId": "d5cfcfa7-2dcc-44d6-faf6-6cd7856e4841"
   },
   "outputs": [
    {
     "name": "stdout",
     "output_type": "stream",
     "text": [
      "📊 Modèle #1 → val_accuracy: 0.8884 | val_loss: 0.4507 | time 187.99 | nb_epochs = 29\n",
      "📊 Modèle #2 → val_accuracy: 0.8800 | val_loss: 0.4971 | time 181.07 | nb_epochs = 28\n",
      "📊 Modèle #3 → val_accuracy: 0.8721 | val_loss: 0.5208 | time 150.16 | nb_epochs = 23\n",
      "📊 Modèle #4 → val_accuracy: 0.8715 | val_loss: 0.5024 | time 181.98 | nb_epochs = 28\n",
      "📊 Modèle #5 → val_accuracy: 0.8788 | val_loss: 0.4697 | time 200.32 | nb_epochs = 31\n",
      "📊 Modèle #6 → val_accuracy: 0.8820 | val_loss: 0.3895 | time 232.58 | nb_epochs = 36\n",
      "📊 Modèle #7 → val_accuracy: 0.8830 | val_loss: 0.4149 | time 323.37 | nb_epochs = 50\n",
      "📊 Modèle #8 → val_accuracy: 0.8920 | val_loss: 0.3855 | time 322.52 | nb_epochs = 50\n",
      "📊 Modèle #9 → val_accuracy: 0.8824 | val_loss: 0.4199 | time 277.05 | nb_epochs = 43\n",
      "📊 Modèle #10 → val_accuracy: 0.8661 | val_loss: 0.4565 | time 322.76 | nb_epochs = 50\n",
      "📊 Modèle #11 → val_accuracy: 0.8938 | val_loss: 0.4137 | time 322.84 | nb_epochs = 50\n",
      "📊 Modèle #12 → val_accuracy: 0.8365 | val_loss: 0.4794 | time 324.87 | nb_epochs = 50\n",
      "📊 Modèle #13 → val_accuracy: 0.8908 | val_loss: 0.4093 | time 235.12 | nb_epochs = 36\n",
      "📊 Modèle #14 → val_accuracy: 0.8854 | val_loss: 0.3817 | time 195.46 | nb_epochs = 30\n",
      "📊 Modèle #15 → val_accuracy: 0.8902 | val_loss: 0.4259 | time 208.25 | nb_epochs = 32\n",
      "📊 Modèle #16 → val_accuracy: 0.8926 | val_loss: 0.4821 | time 220.87 | nb_epochs = 34\n",
      "📊 Modèle #17 → val_accuracy: 0.8872 | val_loss: 0.4526 | time 176.47 | nb_epochs = 27\n",
      "📊 Modèle #18 → val_accuracy: 0.8952 | val_loss: 0.4248 | time 266.17 | nb_epochs = 41\n"
     ]
    }
   ],
   "source": [
    "print_histories(h_gl)"
   ]
  },
  {
   "cell_type": "markdown",
   "metadata": {
    "id": "YbXF4uU2O20X"
   },
   "source": [
    "### LSTM-GRU"
   ]
  },
  {
   "cell_type": "code",
   "execution_count": null,
   "metadata": {
    "colab": {
     "base_uri": "https://localhost:8080/"
    },
    "collapsed": true,
    "executionInfo": {
     "elapsed": 1599778,
     "status": "ok",
     "timestamp": 1754450576415,
     "user": {
      "displayName": "Mathis RABUSSEAU",
      "userId": "06257287053368358166"
     },
     "user_tz": -420
    },
    "id": "WoN5P0OtO5Lh",
    "outputId": "724051a2-841b-45f3-dc11-53163bafef8b"
   },
   "outputs": [],
   "source": [
    "def cg_lg1():\n",
    "  return build_lstm_gru(256, 0.4, 128, 0.25, 16)\n",
    "def cg_lg2():\n",
    "  return build_lstm_gru(256, 0.1, 80, 0.1, 16)\n",
    "def cg_lg3():\n",
    "  return build_lstm_gru(256, 0.4, 48, 0.25, 48)\n",
    "\n",
    "\n",
    "h_lg = run_cross_validation(X, y, cg_lg1)\n",
    "h_lg += run_cross_validation(X,y,cg_lg2)\n",
    "h_lg+= run_cross_validation(X,y,cg_lg3)\n",
    "\n",
    "with open(\"drive/MyDrive/Cours/Stage Pertamina/h_lg.pkl\", \"wb\") as f:\n",
    "    pickle.dump(h_lg, f)"
   ]
  },
  {
   "cell_type": "code",
   "execution_count": null,
   "metadata": {
    "colab": {
     "base_uri": "https://localhost:8080/"
    },
    "executionInfo": {
     "elapsed": 15,
     "status": "ok",
     "timestamp": 1754980747321,
     "user": {
      "displayName": "Mathis RABUSSEAU",
      "userId": "06257287053368358166"
     },
     "user_tz": -420
    },
    "id": "huh8Sldnm730",
    "outputId": "143828e3-8dbf-4a9c-b2ef-2b6880c70f97"
   },
   "outputs": [
    {
     "name": "stdout",
     "output_type": "stream",
     "text": [
      "📊 Modèle #1 → val_accuracy: 0.1975 | val_loss: 1.6100 | time 60.79 | nb_epochs = 9\n",
      "📊 Modèle #2 → val_accuracy: 0.2383 | val_loss: 1.6010 | time 58.76 | nb_epochs = 9\n",
      "📊 Modèle #3 → val_accuracy: 0.9310 | val_loss: 0.2869 | time 157.85 | nb_epochs = 25\n",
      "📊 Modèle #4 → val_accuracy: 0.9394 | val_loss: 0.2646 | time 208.91 | nb_epochs = 33\n",
      "📊 Modèle #5 → val_accuracy: 0.9340 | val_loss: 0.2719 | time 189.76 | nb_epochs = 30\n",
      "📊 Modèle #6 → val_accuracy: 0.2377 | val_loss: 1.5804 | time 64.88 | nb_epochs = 10\n",
      "📊 Modèle #7 → val_accuracy: 0.3283 | val_loss: 1.5154 | time 71.52 | nb_epochs = 11\n",
      "📊 Modèle #8 → val_accuracy: 0.9322 | val_loss: 0.2888 | time 183.85 | nb_epochs = 29\n",
      "📊 Modèle #9 → val_accuracy: 0.9352 | val_loss: 0.3022 | time 171.83 | nb_epochs = 27\n",
      "📊 Modèle #10 → val_accuracy: 0.2821 | val_loss: 1.5710 | time 58.87 | nb_epochs = 9\n",
      "📊 Modèle #11 → val_accuracy: 0.9130 | val_loss: 0.3665 | time 165.84 | nb_epochs = 26\n",
      "📊 Modèle #12 → val_accuracy: 0.9281 | val_loss: 0.2899 | time 209.16 | nb_epochs = 33\n",
      "📊 Modèle #13 → val_accuracy: 0.2755 | val_loss: 1.5748 | time 65.41 | nb_epochs = 10\n",
      "📊 Modèle #14 → val_accuracy: 0.9406 | val_loss: 0.2687 | time 278.73 | nb_epochs = 44\n",
      "📊 Modèle #15 → val_accuracy: 0.9190 | val_loss: 0.3200 | time 146.91 | nb_epochs = 23\n",
      "📊 Modèle #16 → val_accuracy: 0.9250 | val_loss: 0.3185 | time 147.11 | nb_epochs = 23\n",
      "📊 Modèle #17 → val_accuracy: 0.9172 | val_loss: 0.3109 | time 222.20 | nb_epochs = 35\n",
      "📊 Modèle #18 → val_accuracy: 0.9263 | val_loss: 0.3314 | time 234.03 | nb_epochs = 37\n"
     ]
    }
   ],
   "source": [
    "print_histories(h_lg)"
   ]
  },
  {
   "cell_type": "markdown",
   "metadata": {
    "id": "VgVJiLDkjYSn"
   },
   "source": [
    "# **Comparison**"
   ]
  },
  {
   "cell_type": "code",
   "execution_count": null,
   "metadata": {
    "colab": {
     "base_uri": "https://localhost:8080/"
    },
    "executionInfo": {
     "elapsed": 20546,
     "status": "ok",
     "timestamp": 1755592563936,
     "user": {
      "displayName": "Mathis RABUSSEAU",
      "userId": "06257287053368358166"
     },
     "user_tz": -420
    },
    "id": "4gNeL7-TbdkN",
    "outputId": "ea41661f-ca00-47ed-b921-7cfa7ac132cc"
   },
   "outputs": [
    {
     "name": "stderr",
     "output_type": "stream",
     "text": [
      "/usr/local/lib/python3.11/dist-packages/keras/src/saving/saving_lib.py:802: UserWarning: Skipping variable loading for optimizer 'rmsprop', because it has 12 variables whereas the saved optimizer has 22 variables. \n",
      "  saveable.load_own_variables(weights_store.get(inner_path))\n"
     ]
    }
   ],
   "source": [
    "#Loading with Cross validation\n",
    "with open(\"history_gg.pkl\", \"rb\") as f:\n",
    "    gru_gru_histories = pickle.load(f)\n",
    "with open(\"history_ll.pkl\", \"rb\") as f:\n",
    "    lstm_lstm_histories = pickle.load(f)\n",
    "with open(\"dhistory_gl.pkl\", \"rb\") as f:\n",
    "    gru_lstm_histories = pickle.load(f)\n",
    "with open(\"history_lg.pkl\", \"rb\") as f:\n",
    "    lstm_gru_histories = pickle.load(f)"
   ]
  },
  {
   "cell_type": "code",
   "execution_count": 3,
   "metadata": {
    "executionInfo": {
     "elapsed": 3,
     "status": "ok",
     "timestamp": 1755592565487,
     "user": {
      "displayName": "Mathis RABUSSEAU",
      "userId": "06257287053368358166"
     },
     "user_tz": -420
    },
    "id": "ts99gFA7o2Av"
   },
   "outputs": [],
   "source": [
    "\"\"\"Return the metric in an array-like representation\"\"\"\n",
    "def extract_metrics(histories):\n",
    "    val_accuracies = []\n",
    "    val_losses = []\n",
    "    training_times = []\n",
    "    epochs = []\n",
    "\n",
    "    for history in histories:\n",
    "        va = history.history.get('val_accuracy', [])\n",
    "        vl = history.history.get('val_loss', [])\n",
    "        tt = history.history['train_duration']\n",
    "        training_times.append(tt)\n",
    "        if va and vl:\n",
    "            best_epoch = int(np.argmax(va))\n",
    "            val_accuracies.append(va[best_epoch])\n",
    "            val_losses.append(vl[best_epoch])\n",
    "            epochs.append(len(history.history['val_loss']))\n",
    "        else:\n",
    "            val_accuracies.append(None)\n",
    "            val_losses.append(None)\n",
    "            training_times.append(None)\n",
    "            epochs.append(None)\n",
    "\n",
    "    return {\n",
    "        'training_time': training_times,\n",
    "        'val_accuracy': val_accuracies,\n",
    "        'val_loss': val_losses,\n",
    "        'epochs': epochs\n",
    "    }\n",
    "\n",
    "import numpy as np\n",
    "def print_summary(metrics):\n",
    "  print(f\"⏰ Time : Avg - {np.mean(metrics['training_time']):.2f}s | standart_dev - {np.std(metrics['training_time']):.2f}s | Max - {np.max(metrics['training_time']):.3f}\")\n",
    "  print(f\"🎯 Accuracy: Avg - {np.mean(metrics['val_accuracy']):.2f} | standart_dev - {np.std(metrics['val_accuracy']):.2f} | Max - {np.max(metrics['val_accuracy']):.3f}\")\n",
    "  print(f\"❌ Loss: Avg - {np.mean(metrics['val_loss']):.2f} | standart_dev - {np.std(metrics['val_loss']):.2f} | Min - {np.min(metrics['val_loss']):.3f}\")\n",
    "  print(f\"🔢 nb_epochs: Avg - {np.mean(metrics['epochs']):.2f} | standart_dev - {np.std(metrics['epochs']):.2f} | Max - {np.max(metrics['epochs']):.3f}\")"
   ]
  },
  {
   "cell_type": "code",
   "execution_count": 4,
   "metadata": {
    "executionInfo": {
     "elapsed": 17,
     "status": "ok",
     "timestamp": 1755592569434,
     "user": {
      "displayName": "Mathis RABUSSEAU",
      "userId": "06257287053368358166"
     },
     "user_tz": -420
    },
    "id": "lHbGw25MpkCl"
   },
   "outputs": [],
   "source": [
    "data_gg = extract_metrics(gru_gru_histories)\n",
    "data_ll = extract_metrics(lstm_lstm_histories)\n",
    "data_gl = extract_metrics(gru_lstm_histories)\n",
    "data_lg = extract_metrics(lstm_gru_histories)"
   ]
  },
  {
   "cell_type": "code",
   "execution_count": null,
   "metadata": {
    "colab": {
     "base_uri": "https://localhost:8080/"
    },
    "executionInfo": {
     "elapsed": 45,
     "status": "ok",
     "timestamp": 1755070822403,
     "user": {
      "displayName": "Mathis RABUSSEAU",
      "userId": "06257287053368358166"
     },
     "user_tz": -420
    },
    "id": "IyZ0fctrp8At",
    "outputId": "e5bb6995-834b-4ee9-b893-fc1416a04d5b"
   },
   "outputs": [
    {
     "name": "stdout",
     "output_type": "stream",
     "text": [
      "Summary Gru GRU ------------------------------\n",
      "⏰ Time : Avg - 189.21s | standart_dev - 49.93s | Max - 338.625\n",
      "🎯 Accuracy: Avg - 0.92 | standart_dev - 0.01 | Max - 0.938\n",
      "❌ Loss: Avg - 0.33 | standart_dev - 0.06 | Min - 0.278\n",
      "🔢 nb_epochs: Avg - 28.39 | standart_dev - 7.39 | Max - 49.000\n",
      "Summary LSTM LSTSM ------------------------------\n",
      "⏰ Time : Avg - 246.38s | standart_dev - 99.58s | Max - 324.130\n",
      "🎯 Accuracy: Avg - 0.76 | standart_dev - 0.25 | Max - 0.932\n",
      "❌ Loss: Avg - 0.66 | standart_dev - 0.49 | Min - 0.272\n",
      "🔢 nb_epochs: Avg - 38.50 | standart_dev - 15.53 | Max - 50.000\n",
      "Summary GRU LSTM ------------------------------\n",
      "⏰ Time : Avg - 240.55s | standart_dev - 59.34s | Max - 324.873\n",
      "🎯 Accuracy: Avg - 0.88 | standart_dev - 0.01 | Max - 0.895\n",
      "❌ Loss: Avg - 0.44 | standart_dev - 0.04 | Min - 0.382\n",
      "🔢 nb_epochs: Avg - 37.11 | standart_dev - 9.25 | Max - 50.000\n",
      "Summary LSTM GRU ------------------------------\n",
      "⏰ Time : Avg - 149.80s | standart_dev - 68.51s | Max - 278.728\n",
      "🎯 Accuracy: Avg - 0.71 | standart_dev - 0.32 | Max - 0.941\n",
      "❌ Loss: Avg - 0.73 | standart_dev - 0.60 | Min - 0.265\n",
      "🔢 nb_epochs: Avg - 23.50 | standart_dev - 10.96 | Max - 44.000\n"
     ]
    }
   ],
   "source": [
    "print(f\"Summary Gru GRU ------------------------------\")\n",
    "print_summary(data_gg)\n",
    "print(f\"Summary LSTM LSTSM ------------------------------\")\n",
    "print_summary(data_ll)\n",
    "print(f\"Summary GRU LSTM ------------------------------\")\n",
    "print_summary(data_gl)\n",
    "print(f\"Summary LSTM GRU ------------------------------\")\n",
    "print_summary(data_lg)"
   ]
  },
  {
   "cell_type": "code",
   "execution_count": null,
   "metadata": {
    "colab": {
     "base_uri": "https://localhost:8080/",
     "height": 207
    },
    "executionInfo": {
     "elapsed": 768,
     "status": "ok",
     "timestamp": 1755070824709,
     "user": {
      "displayName": "Mathis RABUSSEAU",
      "userId": "06257287053368358166"
     },
     "user_tz": -420
    },
    "id": "0mytiVVkvYHS",
    "outputId": "6fd15def-22e2-48cd-b196-7d28ad704025"
   },
   "outputs": [
    {
     "data": {
      "image/png": "[encoded data removed]",
      "text/plain": [
       "<Figure size 2000x500 with 4 Axes>"
      ]
     },
     "metadata": {},
     "output_type": "display_data"
    }
   ],
   "source": [
    "import matplotlib.pyplot as plt\n",
    "\n",
    "# Create 4 subplot\n",
    "fig, axs = plt.subplots(1, 4, figsize=(20, 5), sharey=True)\n",
    "\n",
    "# Histogram for GRU-GRU\n",
    "axs[0].hist(data_gg['val_accuracy'], bins=10, color='skyblue', edgecolor='black')\n",
    "axs[0].set_title(\"GRU - GRU\")\n",
    "axs[0].set_xlabel(\"val_accuracy\")\n",
    "axs[0].set_ylabel(\"Fréquence\")\n",
    "\n",
    "# Histogram for LSTM-LSTM\n",
    "axs[1].hist(data_ll['val_accuracy'], bins=10, color='lightgreen', edgecolor='black')\n",
    "axs[1].set_title(\"LSTM - LSTM\")\n",
    "axs[1].set_xlabel(\"val_accuracy\")\n",
    "\n",
    "# Histogram for GRU-LSTM\n",
    "axs[2].hist(data_gl['val_accuracy'], bins=10, color='salmon', edgecolor='black')\n",
    "axs[2].set_title(\"GRU - LSTM\")\n",
    "axs[2].set_xlabel(\"val_accuracy\")\n",
    "\n",
    "# Histogram for LSTM-GRU\n",
    "axs[3].hist(data_lg['val_accuracy'], bins=10, color='plum', edgecolor='black')\n",
    "axs[3].set_title(\"LSTM - GRU\")\n",
    "axs[3].set_xlabel(\"val_accuracy\")\n",
    "\n",
    "plt.tight_layout()\n",
    "plt.show()"
   ]
  },
  {
   "cell_type": "markdown",
   "metadata": {
    "id": "zdu_igP92O8z"
   },
   "source": [
    "### Pair comparison"
   ]
  },
  {
   "cell_type": "code",
   "execution_count": null,
   "metadata": {
    "id": "CNY1xQob0Q-A"
   },
   "outputs": [],
   "source": [
    "\"\"\"Compare each metric from m1 with those of m2 to print which architecture is better.\"\"\"\n",
    "def comparison(metric1, metric2, name1, name2):\n",
    "  win1 = 0\n",
    "  win2 = 0\n",
    "  n = len(metric1) * len(metric2)\n",
    "  for a in metric1:\n",
    "    for b in metric2:\n",
    "      if a > b:\n",
    "        win1+=1\n",
    "      elif a < b:\n",
    "        win2+=1\n",
    "\n",
    "  print(f\"{name1} is better in {(win1 / n *100):.1f} % compared to {name2} which is better in {(win2  / n * 100):.1f}%\")\n",
    "\n",
    "\"\"\"Same as the comparison() function but compare m1 with all the other algorithms.\"\"\"\n",
    "def full_comparison(metric1, metric2,  metric3, metric4, name):\n",
    "  def comp(m1, m2):\n",
    "    w = 0\n",
    "    for a in m1:\n",
    "      for b in m2:\n",
    "        if a > b:\n",
    "          w+=1\n",
    "    return w\n",
    "  n =  3 * len(metric1) * len(metric2)\n",
    "  win = comp(metric1, metric2) + comp(metric1, metric3) + comp(metric1, metric4)\n",
    "  print(f\"{name} is better in {(win / n *100):.1f} % compared to all others architectures\")\n",
    "\n"
   ]
  },
  {
   "cell_type": "code",
   "execution_count": null,
   "metadata": {
    "colab": {
     "base_uri": "https://localhost:8080/"
    },
    "executionInfo": {
     "elapsed": 8,
     "status": "ok",
     "timestamp": 1755070846271,
     "user": {
      "displayName": "Mathis RABUSSEAU",
      "userId": "06257287053368358166"
     },
     "user_tz": -420
    },
    "id": "PV9dWnfa4Dzk",
    "outputId": "e0a16b3f-0291-44f3-87f1-ce26057771c6"
   },
   "outputs": [
    {
     "name": "stdout",
     "output_type": "stream",
     "text": [
      "GRU - GRU is better in 84.0 % compared to LSTM - LSTM which is better in 15.1%\n",
      "GRU - GRU is better in 57.1 % compared to LSTM - GRU which is better in 42.0%\n",
      "GRU - GRU is better in 95.7 % compared to GRU - LSTM which is better in 4.3%\n",
      "---\n",
      "LSTM - LSTM is better in 15.1 % compared to GRU - GRU which is better in 84.0%\n",
      "LSTM - LSTM is better in 38.3 % compared to LSTM - GRU which is better in 61.1%\n",
      "LSTM - LSTM is better in 70.4 % compared to GRU - LSTM which is better in 29.6%\n",
      "---\n",
      "LSTM - GRU is better in 42.0 % compared to GRU - GRU which is better in 57.1%\n",
      "LSTM - GRU is better in 61.1 % compared to LSTM - LSTM which is better in 38.3%\n",
      "LSTM - GRU is better in 66.7 % compared to GRU - LSTM which is better in 33.3%\n",
      "---\n",
      "GRU - LSTM is better in 4.3 % compared to GRU - GRU which is better in 95.7%\n",
      "GRU - LSTM is better in 29.6 % compared to LSTM - LSTM which is better in 70.4%\n",
      "GRU - LSTM is better in 33.3 % compared to LSTM - GRU which is better in 66.7%\n",
      "---\n",
      "Full comparison\n",
      "GRU  - GRU is better in 78.9 % compared to all others architectures\n",
      "LSTM - LSTM is better in 41.3 % compared to all others architectures\n",
      "GRU - LSTM is better in 22.4 % compared to all others architectures\n",
      "LSTM - GRU is better in 56.6 % compared to all others architectures\n"
     ]
    }
   ],
   "source": [
    "comparison(data_gg[\"val_accuracy\"], data_ll['val_accuracy'], 'GRU - GRU', 'LSTM - LSTM')\n",
    "comparison(data_gg[\"val_accuracy\"], data_lg['val_accuracy'], 'GRU - GRU', 'LSTM - GRU')\n",
    "comparison(data_gg[\"val_accuracy\"], data_gl['val_accuracy'], 'GRU - GRU', 'GRU - LSTM')\n",
    "print(\"---\")\n",
    "comparison(data_ll[\"val_accuracy\"], data_gg['val_accuracy'], 'LSTM - LSTM', 'GRU - GRU')\n",
    "comparison(data_ll[\"val_accuracy\"], data_lg['val_accuracy'], 'LSTM - LSTM', 'LSTM - GRU')\n",
    "comparison(data_ll[\"val_accuracy\"], data_gl['val_accuracy'], 'LSTM - LSTM', 'GRU - LSTM')\n",
    "print(\"---\")\n",
    "comparison(data_lg[\"val_accuracy\"], data_gg['val_accuracy'], 'LSTM - GRU', 'GRU - GRU')\n",
    "comparison(data_lg[\"val_accuracy\"], data_ll['val_accuracy'], 'LSTM - GRU', 'LSTM - LSTM')\n",
    "comparison(data_lg[\"val_accuracy\"], data_gl['val_accuracy'], 'LSTM - GRU', 'GRU - LSTM')\n",
    "print(\"---\")\n",
    "comparison(data_gl[\"val_accuracy\"], data_gg['val_accuracy'], 'GRU - LSTM', 'GRU - GRU')\n",
    "comparison(data_gl[\"val_accuracy\"], data_ll['val_accuracy'], 'GRU - LSTM', 'LSTM - LSTM')\n",
    "comparison(data_gl[\"val_accuracy\"], data_lg['val_accuracy'], 'GRU - LSTM', 'LSTM - GRU')\n",
    "print(\"---\")\n",
    "print(\"Full comparison\")\n",
    "full_comparison(data_gg[\"val_accuracy\"], data_ll['val_accuracy'],data_gl[\"val_accuracy\"], data_lg['val_accuracy'], 'GRU  - GRU')\n",
    "full_comparison(data_ll[\"val_accuracy\"], data_gg['val_accuracy'],data_gl[\"val_accuracy\"], data_lg['val_accuracy'], 'LSTM - LSTM')\n",
    "full_comparison(data_gl[\"val_accuracy\"], data_gg['val_accuracy'],data_ll[\"val_accuracy\"], data_lg['val_accuracy'], 'GRU - LSTM')\n",
    "full_comparison(data_lg[\"val_accuracy\"], data_gg['val_accuracy'],data_gl[\"val_accuracy\"], data_ll['val_accuracy'], 'LSTM - GRU')"
   ]
  },
  {
   "cell_type": "markdown",
   "metadata": {
    "id": "SzNu2LoiYM-C"
   },
   "source": [
    "## Friedman test"
   ]
  },
  {
   "cell_type": "code",
   "execution_count": null,
   "metadata": {
    "colab": {
     "base_uri": "https://localhost:8080/"
    },
    "executionInfo": {
     "elapsed": 11,
     "status": "ok",
     "timestamp": 1755070848416,
     "user": {
      "displayName": "Mathis RABUSSEAU",
      "userId": "06257287053368358166"
     },
     "user_tz": -420
    },
    "id": "a_mE3n2yYQZN",
    "outputId": "f47127a2-cabe-41a4-a73a-268034f5a950"
   },
   "outputs": [
    {
     "name": "stdout",
     "output_type": "stream",
     "text": [
      "Friedman stat = 19.6937, p-value = 0.2902\n"
     ]
    }
   ],
   "source": [
    "from scipy.stats import friedmanchisquare\n",
    "\n",
    "#extraction of the results\n",
    "results = [\n",
    "    data_gg['val_accuracy'],\n",
    "    data_ll['val_accuracy'],\n",
    "    data_gl['val_accuracy'],\n",
    "    data_lg['val_accuracy'],\n",
    "]\n",
    "\n",
    "#Runing the Friedman test\n",
    "stat, p = friedmanchisquare(*zip(*results))\n",
    "print(f\"Friedman stat = {stat:.4f}, p-value = {p:.4f}\")"
   ]
  },
  {
   "cell_type": "markdown",
   "metadata": {
    "id": "P9us7WhNd8Hw"
   },
   "source": [
    "## Visualisation"
   ]
  },
  {
   "cell_type": "code",
   "execution_count": 5,
   "metadata": {
    "colab": {
     "base_uri": "https://localhost:8080/",
     "height": 507
    },
    "executionInfo": {
     "elapsed": 696,
     "status": "ok",
     "timestamp": 1755592606310,
     "user": {
      "displayName": "Mathis RABUSSEAU",
      "userId": "06257287053368358166"
     },
     "user_tz": -420
    },
    "id": "WL0YW44ed952",
    "outputId": "89ba608c-c98a-4799-d1fd-a84a58ce25ab"
   },
   "outputs": [
    {
     "name": "stderr",
     "output_type": "stream",
     "text": [
      "/tmp/ipython-input-1961703732.py:8: MatplotlibDeprecationWarning: The 'labels' parameter of boxplot() has been renamed 'tick_labels' since Matplotlib 3.9; support for the old name will be dropped in 3.11.\n",
      "  plt.boxplot(data, labels=[\"GRU-GRU\", \"LSTM-LSTM\", \"GRU-LSTM\", \"LSTM-GRU\"], showmeans=True)\n"
     ]
    },
    {
     "data": {
      "image/png": "[encoded data removed]",
      "text/plain": [
       "<Figure size 640x480 with 1 Axes>"
      ]
     },
     "metadata": {},
     "output_type": "display_data"
    }
   ],
   "source": [
    "data = [\n",
    "    data_gg['val_accuracy'],\n",
    "    data_ll['val_accuracy'],\n",
    "    data_gl['val_accuracy'],\n",
    "    data_lg['val_accuracy'],\n",
    "]\n",
    "\n",
    "plt.boxplot(data, labels=[\"GRU-GRU\", \"LSTM-LSTM\", \"GRU-LSTM\", \"LSTM-GRU\"], showmeans=True)\n",
    "\n",
    "plt.ylabel(\"Validation Accuracy\")\n",
    "plt.title(\"Comparison of models\")\n",
    "plt.show()"
   ]
  }
 ],
 "metadata": {
  "colab": {
   "authorship_tag": "ABX9TyOEPWtSrlCxwMvortWPGvOA",
   "mount_file_id": "1jwJq-uadEgGKWggsV-USuBDdw03B27cA",
   "provenance": []
  },
  "kernelspec": {
   "display_name": "Python 3",
   "name": "python3"
  },
  "language_info": {
   "name": "python"
  }
 },
 "nbformat": 4,
 "nbformat_minor": 0
}
