{
 "cells": [
  {
   "cell_type": "markdown",
   "id": "0d589efc",
   "metadata": {},
   "source": [
    "## Import modules"
   ]
  },
  {
   "cell_type": "code",
   "execution_count": 1,
   "id": "84ae9dc9",
   "metadata": {},
   "outputs": [],
   "source": [
    "import pandas as pd\n",
    "import numpy as np\n",
    "import os\n",
    "import random\n",
    "\n",
    "import seaborn as sns #for visualisation\n",
    "import matplotlib.pyplot as plt #for visualisation\n",
    "\n",
    "import librosa #For audio processing\n",
    "import librosa.display\n",
    "from  IPython.display import Audio\n",
    "import soundfile as sf"
   ]
  },
  {
   "cell_type": "markdown",
   "id": "0bfa997d",
   "metadata": {},
   "source": [
    "## Prepare dataset / Split Audiofiles"
   ]
  },
  {
   "cell_type": "code",
   "execution_count": null,
   "id": "6dea9eeb",
   "metadata": {},
   "outputs": [
    {
     "name": "stdout",
     "output_type": "stream",
     "text": [
      "Dataset is Loaded\n"
     ]
    },
    {
     "name": "stderr",
     "output_type": "stream",
     "text": [
      "C:\\Users\\PC\\AppData\\Local\\Temp\\ipykernel_5960\\2048329306.py:34: UserWarning: PySoundFile failed. Trying audioread instead.\n",
      "  y, sr = librosa.load(path, sr=sample_rate, offset=offset_sec)\n",
      "c:\\Users\\PC\\AppData\\Local\\Programs\\Python\\Python313\\Lib\\site-packages\\librosa\\core\\audio.py:184: FutureWarning: librosa.core.audio.__audioread_load\n",
      "\tDeprecated as of librosa version 0.10.0.\n",
      "\tIt will be removed in librosa version 1.0.\n",
      "  y, sr_native = __audioread_load(path, offset, duration, dtype)\n"
     ]
    },
    {
     "name": "stdout",
     "output_type": "stream",
     "text": [
      "Découpage terminé ✅\n"
     ]
    }
   ],
   "source": [
    "raw_paths = [] #Audio file paths\n",
    "\n",
    "#Reading the files\n",
    "for dirname, _, filenames in os.walk('./dataset/raw'):\n",
    "    for filename in filenames:\n",
    "        raw_paths.append(os.path.join(dirname, filename))\n",
    "        label = filename.split('-')[0]\n",
    "    if len(raw_paths) == 2800:\n",
    "        break\n",
    "print('Dataset is Loaded')\n",
    "\n",
    "\n",
    "# Parametres\n",
    "output_dir = \"./dataset/chunks\"\n",
    "chunk_duration = 3.0  # secondes\n",
    "sample_rate = 16000\n",
    "\n",
    "os.makedirs(output_dir, exist_ok=True)\n",
    "\n",
    "#files datas:\n",
    "paths = []\n",
    "labels = []\n",
    "\n",
    "\n",
    "def split_audio_into_chunks(raw_paths, offset_sec=0.0):\n",
    "    paths = []\n",
    "    labels = []\n",
    "    global chunk_duration\n",
    "    global sample_rate\n",
    "    global output_dir\n",
    "\n",
    "    for idx, path in enumerate(raw_paths):\n",
    "        try:\n",
    "            y, sr = librosa.load(path, sr=sample_rate, offset=offset_sec)\n",
    "            total_duration = librosa.get_duration(y=y, sr=sr)\n",
    "            samples_per_chunk = int(chunk_duration * sr)\n",
    "            num_chunks = len(y) // samples_per_chunk\n",
    "\n",
    "            for i in range(num_chunks):\n",
    "                start = i * samples_per_chunk\n",
    "                end = start + samples_per_chunk\n",
    "                chunk = y[start:end]\n",
    "\n",
    "                if len(chunk) < samples_per_chunk:\n",
    "                    continue\n",
    "\n",
    "                # File name\n",
    "                base_filename = os.path.basename(path).replace('.wav', '')\n",
    "                chunk_filename = f\"{base_filename}_chunk_offset{int(offset_sec*1000)}ms_{i}.wav\"\n",
    "                chunk_path = os.path.join(output_dir, chunk_filename)\n",
    "\n",
    "                # label (class) from the file name\n",
    "                label = base_filename.split('-')[0].upper()\n",
    "\n",
    "                paths.append(chunk_path)\n",
    "                labels.append(label)\n",
    "                sf.write(chunk_path, chunk, samplerate=sr)\n",
    "\n",
    "        except Exception as e:\n",
    "            print(f\"Error on {path}: {e}\")\n",
    "\n",
    "    return paths, labels\n",
    "r1, r2 = split_audio_into_chunks(raw_paths, 0)\n",
    "paths.extend(r1)\n",
    "labels.extend(r2)\n",
    "r1, r2 = split_audio_into_chunks(raw_paths, 0.5)\n",
    "paths.extend(r1)\n",
    "labels.extend(r2)\n",
    "r1, r2 = split_audio_into_chunks(raw_paths, 1)\n",
    "paths.extend(r1)\n",
    "labels.extend(r2)\n",
    "r1, r2 = split_audio_into_chunks(raw_paths, 1.5)\n",
    "paths.extend(r1)\n",
    "labels.extend(r2)\n",
    "r1, r2 = split_audio_into_chunks(raw_paths, 2)\n",
    "paths.extend(r1)\n",
    "labels.extend(r2)\n",
    "r1, r2 = split_audio_into_chunks(raw_paths, 2.5)\n",
    "paths.extend(r1)\n",
    "labels.extend(r2)\n",
    "\n",
    "\n",
    "print(\"Chunking finished ✅\")\n"
   ]
  },
  {
   "cell_type": "markdown",
   "id": "4f65a9dd",
   "metadata": {},
   "source": [
    "## Data Augmentation Functions"
   ]
  },
  {
   "cell_type": "code",
   "execution_count": null,
   "id": "4bee3dcf",
   "metadata": {},
   "outputs": [],
   "source": [
    "# Adding white noise\n",
    "def add_noise(path, output_dir, noise_factor=0.005):\n",
    "    noise_factor = random.randint(1, 15) / 1000\n",
    "    y, sr = librosa.load(path, sr=None)\n",
    "    noise = np.random.randn(len(y))\n",
    "    y_noisy = y + noise_factor * noise\n",
    "    y_noisy = np.clip(y_noisy, -1.0, 1.0)\n",
    "\n",
    "    base_name = os.path.basename(path).replace('.wav', f'_DAnoise.wav')\n",
    "    output_path = os.path.join(output_dir, base_name)\n",
    "\n",
    "    sf.write(output_path, y_noisy, sr)\n",
    "    return output_path\n",
    "\n",
    "# Pitch shifting\n",
    "def pitch_shift(path, output_dir):\n",
    "    y, sr = librosa.load(path, sr=None)\n",
    "    y_shifted = librosa.effects.pitch_shift(y, sr=sr, n_steps=random.randint(0,2))\n",
    "\n",
    "    # Build the path\n",
    "    base_name = os.path.basename(path).replace('.wav', f'_DApitch{random.randint(0,100000)}.wav')\n",
    "    output_path = os.path.join(output_dir, base_name)\n",
    "\n",
    "    # writing the file\n",
    "    sf.write(output_path, y_shifted, sr)\n",
    "\n",
    "    return output_path\n",
    "\n",
    "# Time stretching (fast or slower)\n",
    "def time_stretch(path, output_dir, target_duration=3.0):\n",
    "    # Choosing a random speed factor between 0.8 and 1.3\n",
    "    rate = random.randint(800, 1300) / 1000\n",
    "\n",
    "    # Loading the audio\n",
    "    y, sr = librosa.load(path, sr=None)\n",
    "    y_stretched = librosa.effects.time_stretch(y, rate=rate)\n",
    "\n",
    "    target_length = int(sr * target_duration)\n",
    "\n",
    "    # Adjust duration\n",
    "    if len(y_stretched) > target_length:\n",
    "        # We remove the end if the audio is too long (have been made slower)\n",
    "        y_stretched = y_stretched[:target_length]\n",
    "    elif len(y_stretched) < target_length:\n",
    "        # We add white noise if the audio is to short (have been made faster)\n",
    "        padding = target_length - len(y_stretched)\n",
    "        noise = np.random.normal(0, 0.005, padding)\n",
    "        y_stretched = np.concatenate([y_stretched, noise])\n",
    "\n",
    "    # Building the output file name\n",
    "    base_name = os.path.basename(path).replace('.wav', f'_DAstretch{rate:.3f}.wav')\n",
    "    output_path = os.path.join(output_dir, base_name)\n",
    "\n",
    "    # Saving\n",
    "    sf.write(output_path, y_stretched, sr)\n",
    "    return output_path"
   ]
  },
  {
   "cell_type": "markdown",
   "id": "3cfb0947",
   "metadata": {},
   "source": [
    "## Data Augmentation"
   ]
  },
  {
   "cell_type": "code",
   "execution_count": null,
   "id": "840e8566",
   "metadata": {},
   "outputs": [
    {
     "data": {
      "text/plain": [
       "(array([6001.,    0., 6001.,    0.,    0., 6001.,    0., 6001.,    0.,\n",
       "        5996.]),\n",
       " array([0. , 0.4, 0.8, 1.2, 1.6, 2. , 2.4, 2.8, 3.2, 3.6, 4. ]),\n",
       " <BarContainer object of 10 artists>)"
      ]
     },
     "execution_count": 4,
     "metadata": {},
     "output_type": "execute_result"
    },
    {
     "data": {
      "image/png": "[encoded data removed]",
      "text/plain": [
       "<Figure size 640x480 with 1 Axes>"
      ]
     },
     "metadata": {},
     "output_type": "display_data"
    }
   ],
   "source": [
    "chunks_by_class = 6000 #Number of audio wanted for each class\n",
    "size = len(paths)\n",
    "idx = 0\n",
    "\n",
    "#While there is not enought audio file, we create one with DA.\n",
    "while(len(paths) < chunks_by_class * len(set(labels))):\n",
    "    #We will duplicate the audio at index idx\n",
    "    if idx > size:\n",
    "        idx = 0 #We just want to use the \"clean\" (non-already edited) audio, which are the first audios.\n",
    "    if labels.count(labels[idx]) > chunks_by_class: \n",
    "        #If there is already too much audio on this class, we move onto the next.\n",
    "        idx+=1\n",
    "        continue\n",
    "    i = random.randint(0,2)\n",
    "\n",
    "    if i == 0:\n",
    "        fileName = add_noise(paths[idx], './dataset/chunks/DA')\n",
    "        paths.append(fileName)\n",
    "        labels.append(labels[idx])\n",
    "    elif i == 1:\n",
    "        fileName = pitch_shift(paths[idx], './dataset/chunks/DA')\n",
    "        paths.append(fileName)\n",
    "        labels.append(labels[idx])\n",
    "    else:\n",
    "        fileName = time_stretch(paths[idx], './dataset/chunks/DA')\n",
    "        paths.append(fileName)\n",
    "        labels.append(labels[idx])\n",
    "    idx+=1\n",
    "\n",
    "plt.hist(labels)"
   ]
  },
  {
   "cell_type": "code",
   "execution_count": 5,
   "id": "4bf599ad",
   "metadata": {},
   "outputs": [],
   "source": [
    "np.save('paths', paths)\n",
    "np.save('labels', labels)"
   ]
  },
  {
   "cell_type": "markdown",
   "id": "64387e2b",
   "metadata": {},
   "source": [
    "## Feature extraction MFCC"
   ]
  },
  {
   "cell_type": "code",
   "execution_count": null,
   "id": "4075b7c4",
   "metadata": {},
   "outputs": [],
   "source": [
    "from tqdm import tqdm\n",
    "\n",
    "def extract_mfcc_features(paths, n_mfcc=13, duration=3.0, sr=22050):\n",
    "    features = []\n",
    "\n",
    "    hop_length = int(0.01 * sr)  # 10 ms\n",
    "    win_length = int(0.025 * sr) # 25 ms\n",
    "    max_len = int(librosa.time_to_frames(duration, sr=sr, hop_length=hop_length))\n",
    "\n",
    "    for path in tqdm(paths, desc=\"Extraction MFCC\"):\n",
    "        y, sr = librosa.load(path, sr=sr, duration=duration)\n",
    "\n",
    "        # Pre-emphasis\n",
    "        y = np.append(y[0], y[1:] - 0.97 * y[:-1])\n",
    "\n",
    "        # Padding if the file is too short\n",
    "        if len(y) < int(sr * duration):\n",
    "            pad_len = int(sr * duration) - len(y)\n",
    "            y = np.pad(y, (0, pad_len))\n",
    "\n",
    "        # MFCC extraction\n",
    "        mfcc = librosa.feature.mfcc(\n",
    "            y=y,\n",
    "            sr=sr,\n",
    "            n_mfcc=n_mfcc,\n",
    "            hop_length=hop_length,\n",
    "            win_length=win_length,\n",
    "            window='hamming',\n",
    "            lifter=22\n",
    "        )\n",
    "\n",
    "        # Normalisation\n",
    "        mfcc = (mfcc - np.mean(mfcc, axis=1, keepdims=True)) / (np.std(mfcc, axis=1, keepdims=True) + 1e-6)\n",
    "\n",
    "        # Pad/crop for constant size\n",
    "        if mfcc.shape[1] < max_len:\n",
    "            pad_width = max_len - mfcc.shape[1]\n",
    "            mfcc = np.pad(mfcc, ((0, 0), (0, pad_width)), mode='constant')\n",
    "        else:\n",
    "            mfcc = mfcc[:, :max_len]\n",
    "\n",
    "        features.append(mfcc)\n",
    "\n",
    "    return np.array(features)"
   ]
  },
  {
   "cell_type": "code",
   "execution_count": 8,
   "id": "4167210f",
   "metadata": {},
   "outputs": [
    {
     "name": "stderr",
     "output_type": "stream",
     "text": [
      "Extraction MFCC: 100%|██████████| 30000/30000 [10:23<00:00, 48.15it/s]\n"
     ]
    },
    {
     "name": "stdout",
     "output_type": "stream",
     "text": [
      "✅ MFCCs and labels saved.\n"
     ]
    }
   ],
   "source": [
    "X = extract_mfcc_features(paths, 13)\n",
    "y = labels\n",
    "\n",
    "#Saving the data\n",
    "np.save('mfcc_features.npy', X)\n",
    "np.save('mfcc_labels.npy', y)\n",
    "print(\"✅ MFCCs and labels saved.\")"
   ]
  }
 ],
 "metadata": {
  "kernelspec": {
   "display_name": "Python 3",
   "language": "python",
   "name": "python3"
  },
  "language_info": {
   "codemirror_mode": {
    "name": "ipython",
    "version": 3
   },
   "file_extension": ".py",
   "mimetype": "text/x-python",
   "name": "python",
   "nbconvert_exporter": "python",
   "pygments_lexer": "ipython3",
   "version": "3.13.1"
  }
 },
 "nbformat": 4,
 "nbformat_minor": 5
}
